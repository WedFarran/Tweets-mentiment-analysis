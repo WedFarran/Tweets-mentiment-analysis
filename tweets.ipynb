{
 "cells": [
  {
   "cell_type": "markdown",
   "metadata": {},
   "source": [
    "# Tweets Sentiment Analysis\n",
    "\n",
    "**Sentiment Analysis**: Social media can be a great place to connect with others and share positive thoughts and experiences. However, it can also be a breeding ground for negativity and hate speech. This project aims to develop a system to rank tweets by kindness in order to promote more positive and supportive online interactions.\n",
    "\n",
    "**Benefits:**\n",
    "\n",
    "The proposed system has the potential to provide a number of benefits, including:\n",
    "\n",
    "- Promoting more positive and supportive online interactions\n",
    "- Reducing the spread of negativity and hate speech\n",
    "- Helping people to find and connect with others who share their values\n",
    "- Making social media a more enjoyable and welcoming place for everyone\n",
    "\n",
    "**Dataset**:\n",
    "\n",
    "1. `tweets.txt` - a list of tweets (one per line)\n",
    "1. `words_positive.txt` - a list of positive words like \"love,\" \"compassion,\" and \"gratitude\"\n",
    "1. `words_negative.txt` - a list of negative words like \"hate,\" \"anger,\" and \"fear\"\n",
    "\n",
    "**Requirements:**\n",
    "\n",
    "The proposed system will use sentiment analysis to identify and rank tweets based on their level of positiveness and negativeness.\n",
    "\n",
    "The system should display the tweets sorted by their score, with the most positive tweets first."
   ]
  },
  {
   "cell_type": "code",
   "execution_count": 8,
   "metadata": {},
   "outputs": [
    {
     "ename": "TypeError",
     "evalue": "can only concatenate str (not \"list\") to str",
     "output_type": "error",
     "traceback": [
      "\u001b[1;31m---------------------------------------------------------------------------\u001b[0m",
      "\u001b[1;31mTypeError\u001b[0m                                 Traceback (most recent call last)",
      "Cell \u001b[1;32mIn[8], line 42\u001b[0m\n\u001b[0;32m     40\u001b[0m     Positive_Rank\u001b[38;5;241m.\u001b[39mappend(Positive_Count\u001b[38;5;241m-\u001b[39m\u001b[38;5;241m1\u001b[39m)   \n\u001b[0;32m     41\u001b[0m     Positive_Count \u001b[38;5;241m=\u001b[39m \u001b[38;5;241m0\u001b[39m\n\u001b[1;32m---> 42\u001b[0m \u001b[38;5;28mprint\u001b[39m(\u001b[38;5;124;43m\"\u001b[39;49m\u001b[38;5;124;43mPositive Words\u001b[39;49m\u001b[38;5;124;43m\"\u001b[39;49m\u001b[38;5;241;43m+\u001b[39;49m\u001b[43mPositive_Rank\u001b[49m)  \n\u001b[0;32m     45\u001b[0m negative_Count \u001b[38;5;241m=\u001b[39m \u001b[38;5;241m0\u001b[39m\n\u001b[0;32m     46\u001b[0m negative_Rank \u001b[38;5;241m=\u001b[39m []\n",
      "\u001b[1;31mTypeError\u001b[0m: can only concatenate str (not \"list\") to str"
     ]
    }
   ],
   "source": [
    "\n",
    "\n",
    "positive_words = [] \n",
    "with  open('./words_positive.txt','r') as f:\n",
    "    while True:\n",
    "        line = f.readline()\n",
    "        line = line.rstrip() # remove the newline character \"\\n\"\n",
    "        positive_words.append(line)\n",
    "        if line == '':\n",
    "            break\n",
    "    \n",
    "naegative_words = []\n",
    "with  open('./words_negative.txt','r') as f:\n",
    "    while True:\n",
    "        line = f.readline()\n",
    "        line = line.rstrip() # remove the newline character \"\\n\"\n",
    "        naegative_words.append(line)\n",
    "        if line == '':\n",
    "            break\n",
    "\n",
    "tweets = []\n",
    "with  open('./tweets.txt','r') as f:\n",
    "    while True:\n",
    "        line = f.readline()\n",
    "        line = f.readline()\n",
    "        line = line.rstrip() # remove the newline character \"\\n\"\n",
    "        tweets.append(line)\n",
    "        #print(line)\n",
    "        if line == '':\n",
    "            break\n",
    "\n",
    "#-------------------------lists are done\n",
    "\n",
    "\n",
    "#Nested Loop \n",
    "Positive_Count = 0\n",
    "Positive_Rank = []\n",
    "for i in tweets:\n",
    "    for j in positive_words:\n",
    "        if j in i:\n",
    "            Positive_Count+=1\n",
    "    Positive_Rank.append(Positive_Count-1)   \n",
    "    Positive_Count = 0\n",
    "print(\"Positive Words\",Positive_Rank)  \n",
    "\n",
    "\n",
    "negative_Count = 0\n",
    "negative_Rank = []\n",
    "for i in tweets:\n",
    "    for j in naegative_words:\n",
    "        if j in i:\n",
    "            negative_Count+=1\n",
    "    negative_Rank.append(negative_Count-1)   \n",
    "    negative_Count = 0\n",
    "print(\"Negative words\",negative_Rank)  "
   ]
  }
 ],
 "metadata": {
  "kernelspec": {
   "display_name": "Python 3",
   "language": "python",
   "name": "python3"
  },
  "language_info": {
   "codemirror_mode": {
    "name": "ipython",
    "version": 3
   },
   "file_extension": ".py",
   "mimetype": "text/x-python",
   "name": "python",
   "nbconvert_exporter": "python",
   "pygments_lexer": "ipython3",
   "version": "3.11.8"
  }
 },
 "nbformat": 4,
 "nbformat_minor": 2
}
