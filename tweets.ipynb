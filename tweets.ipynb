{
 "cells": [
  {
   "cell_type": "markdown",
   "metadata": {},
   "source": [
    "# Tweets Sentiment Analysis\n",
    "\n",
    "**Sentiment Analysis**: Social media can be a great place to connect with others and share positive thoughts and experiences. However, it can also be a breeding ground for negativity and hate speech. This project aims to develop a system to rank tweets by kindness in order to promote more positive and supportive online interactions.\n",
    "\n",
    "**Benefits:**\n",
    "\n",
    "The proposed system has the potential to provide a number of benefits, including:\n",
    "\n",
    "- Promoting more positive and supportive online interactions\n",
    "- Reducing the spread of negativity and hate speech\n",
    "- Helping people to find and connect with others who share their values\n",
    "- Making social media a more enjoyable and welcoming place for everyone\n",
    "\n",
    "**Dataset**:\n",
    "\n",
    "1. `tweets.txt` - a list of tweets (one per line)\n",
    "1. `words_positive.txt` - a list of positive words like \"love,\" \"compassion,\" and \"gratitude\"\n",
    "1. `words_negative.txt` - a list of negative words like \"hate,\" \"anger,\" and \"fear\"\n",
    "\n",
    "**Requirements:**\n",
    "\n",
    "The proposed system will use sentiment analysis to identify and rank tweets based on their level of positiveness and negativeness.\n",
    "\n",
    "The system should display the tweets sorted by their score, with the most positive tweets first."
   ]
  },
  {
   "cell_type": "code",
   "execution_count": 3,
   "metadata": {},
   "outputs": [
    {
     "ename": "TypeError",
     "evalue": "'tweets' is an invalid keyword argument for print()",
     "output_type": "error",
     "traceback": [
      "\u001b[1;31m---------------------------------------------------------------------------\u001b[0m",
      "\u001b[1;31mTypeError\u001b[0m                                 Traceback (most recent call last)",
      "Cell \u001b[1;32mIn[3], line 2\u001b[0m\n\u001b[0;32m      1\u001b[0m \u001b[38;5;28;01mwith\u001b[39;00m  \u001b[38;5;28mopen\u001b[39m(\u001b[38;5;124m'\u001b[39m\u001b[38;5;124m./tweets.txt\u001b[39m\u001b[38;5;124m'\u001b[39m) \u001b[38;5;28;01mas\u001b[39;00m f:\n\u001b[1;32m----> 2\u001b[0m     \u001b[38;5;28;43mprint\u001b[39;49m\u001b[43m(\u001b[49m\u001b[43mtweets\u001b[49m\u001b[43m \u001b[49m\u001b[38;5;241;43m=\u001b[39;49m\u001b[43m \u001b[49m\u001b[43mf\u001b[49m\u001b[38;5;241;43m.\u001b[39;49m\u001b[43mread\u001b[49m\u001b[43m(\u001b[49m\u001b[43m)\u001b[49m\u001b[43m)\u001b[49m\n",
      "\u001b[1;31mTypeError\u001b[0m: 'tweets' is an invalid keyword argument for print()"
     ]
    }
   ],
   "source": [
    "with  open('./tweets.txt') as f:\n",
    "    tweets = f.read()\n",
    "    print(tweets)"
   ]
  }
 ],
 "metadata": {
  "kernelspec": {
   "display_name": "Python 3",
   "language": "python",
   "name": "python3"
  },
  "language_info": {
   "codemirror_mode": {
    "name": "ipython",
    "version": 3
   },
   "file_extension": ".py",
   "mimetype": "text/x-python",
   "name": "python",
   "nbconvert_exporter": "python",
   "pygments_lexer": "ipython3",
   "version": "3.9.0"
  }
 },
 "nbformat": 4,
 "nbformat_minor": 2
}
