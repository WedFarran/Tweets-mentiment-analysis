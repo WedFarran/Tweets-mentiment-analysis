{
 "cells": [
  {
   "cell_type": "markdown",
   "metadata": {},
   "source": [
    "# Tweets Sentiment Analysis\n",
    "\n",
    "**Sentiment Analysis**: Social media can be a great place to connect with others and share positive thoughts and experiences. However, it can also be a breeding ground for negativity and hate speech. This project aims to develop a system to rank tweets by kindness in order to promote more positive and supportive online interactions.\n",
    "\n",
    "**Benefits:**\n",
    "\n",
    "The proposed system has the potential to provide a number of benefits, including:\n",
    "\n",
    "- Promoting more positive and supportive online interactions\n",
    "- Reducing the spread of negativity and hate speech\n",
    "- Helping people to find and connect with others who share their values\n",
    "- Making social media a more enjoyable and welcoming place for everyone\n",
    "\n",
    "**Dataset**:\n",
    "\n",
    "1. `tweets.txt` - a list of tweets (one per line)\n",
    "1. `words_positive.txt` - a list of positive words like \"love,\" \"compassion,\" and \"gratitude\"\n",
    "1. `words_negative.txt` - a list of negative words like \"hate,\" \"anger,\" and \"fear\"\n",
    "\n",
    "**Requirements:**\n",
    "\n",
    "The proposed system will use sentiment analysis to identify and rank tweets based on their level of positiveness and negativeness.\n",
    "\n",
    "The system should display the tweets sorted by their score, with the most positive tweets first."
   ]
  },
  {
   "cell_type": "code",
   "execution_count": 18,
   "metadata": {},
   "outputs": [
    {
     "name": "stdout",
     "output_type": "stream",
     "text": [
      "Grateful\n",
      "amazing\n",
      "wonderful\n",
      "beautiful\n",
      "sweet\n",
      "perfect\n",
      "kind\n",
      "generous\n",
      "help\n",
      "loved\n",
      "intelligent\n",
      "talented\n",
      "young\n",
      "bright\n",
      "passionate\n",
      "determined\n",
      "good\n",
      "beautiful\n",
      "friends\n",
      "fun\n",
      "anxious\n",
      "stressed\n",
      "worst\n",
      "grumpy\n",
      "drained\n",
      "awful\n",
      "overslept\n",
      "missed\n",
      "uneasy\n",
      "boss\n",
      "noise\n",
      "dreadful\n",
      "lonely\n"
     ]
    }
   ],
   "source": [
    "\n",
    "\n",
    "positive_words = [] \n",
    "with  open('./words_positive.txt','r') as f:\n",
    "    while True:\n",
    "        line = f.readline()\n",
    "        line = line.rstrip() # remove the newline character \"\\n\"\n",
    "        positive_words.append(line)\n",
    "        if line == '':\n",
    "            break\n",
    "        print(line)\n",
    "    \n",
    "naegative_words = []\n",
    "with  open('./words_negative.txt','r') as f:\n",
    "    while True:\n",
    "        line = f.readline()\n",
    "        line = line.rstrip() # remove the newline character \"\\n\"\n",
    "        naegative_words.append(line)\n",
    "        if line == '':\n",
    "            break\n",
    "        print(line)\n",
    "\n"
   ]
  }
 ],
 "metadata": {
  "kernelspec": {
   "display_name": "Python 3",
   "language": "python",
   "name": "python3"
  },
  "language_info": {
   "codemirror_mode": {
    "name": "ipython",
    "version": 3
   },
   "file_extension": ".py",
   "mimetype": "text/x-python",
   "name": "python",
   "nbconvert_exporter": "python",
   "pygments_lexer": "ipython3",
   "version": "3.9.0"
  }
 },
 "nbformat": 4,
 "nbformat_minor": 2
}
