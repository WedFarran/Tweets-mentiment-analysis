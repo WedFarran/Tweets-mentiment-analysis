{
 "cells": [
  {
   "cell_type": "markdown",
   "metadata": {},
   "source": [
    "# Tweets Sentiment Analysis\n",
    "\n",
    "**Sentiment Analysis**: Social media can be a great place to connect with others and share positive thoughts and experiences. However, it can also be a breeding ground for negativity and hate speech. This project aims to develop a system to rank tweets by kindness in order to promote more positive and supportive online interactions.\n",
    "\n",
    "**Benefits:**\n",
    "\n",
    "The proposed system has the potential to provide a number of benefits, including:\n",
    "\n",
    "- Promoting more positive and supportive online interactions\n",
    "- Reducing the spread of negativity and hate speech\n",
    "- Helping people to find and connect with others who share their values\n",
    "- Making social media a more enjoyable and welcoming place for everyone\n",
    "\n",
    "**Dataset**:\n",
    "\n",
    "1. `tweets.txt` - a list of tweets (one per line)\n",
    "1. `words_positive.txt` - a list of positive words like \"love,\" \"compassion,\" and \"gratitude\"\n",
    "1. `words_negative.txt` - a list of negative words like \"hate,\" \"anger,\" and \"fear\"\n",
    "\n",
    "**Requirements:**\n",
    "\n",
    "The proposed system will use sentiment analysis to identify and rank tweets based on their level of positiveness and negativeness.\n",
    "\n",
    "The system should display the tweets sorted by their score, with the most positive tweets first."
   ]
  },
  {
   "cell_type": "code",
   "execution_count": 53,
   "metadata": {},
   "outputs": [
    {
     "name": "stdout",
     "output_type": "stream",
     "text": [
      "Positive Words [3, 5, 4, 6, 3, 0, 0, 0, 0, 2, 0]\n",
      "Negative words [0, 0, 0, 0, 0, 2, 3, 5, 2, 2, 0]\n"
     ]
    },
    {
     "data": {
      "text/plain": [
       "{'Grateful for the amazing people in my life who make it so wonderful': 3,\n",
       " 'The beautiful flowers were in full bloom and the sweet scent filled the air. The birds were singing merrily and the sun was shining brightly. It was a perfect day': 5,\n",
       " 'The kind and generous old man was always willing to help others. He was a role model for the entire community and he was loved by everyone': 4,\n",
       " 'The intelligent and talented young woman had a bright future ahead of her. She was passionate about her work and she was determined to make a difference in the world': 6,\n",
       " 'Sending out good vibes to everyone today! Have a beautiful day!': 3,\n",
       " \"I've been feeling so anxious and stressed lately with everything going on. Really need a break from it all.\": -2,\n",
       " \"Traffic was the worst it's ever been today. The long commute just made me feel grumpy and drained.\": -3,\n",
       " 'Had an awful morning - overslept and missed my first meeting. Feeling uneasy about how my boss will react.': -5,\n",
       " \"All the noise from the construction outside is driving me nuts. It's making working from home dreadful.\": -2,\n",
       " \"Went out with some friends last night but didn't have as much fun as I thought. Felt a bit lonely and left early feeling uneasy.\": 0,\n",
       " '': 0}"
      ]
     },
     "execution_count": 53,
     "metadata": {},
     "output_type": "execute_result"
    }
   ],
   "source": [
    "\n",
    "\n",
    "positive_words = [] \n",
    "with  open('./words_positive.txt','r') as f:\n",
    "    while True:\n",
    "        line = f.readline()\n",
    "        line = line.rstrip() # remove the newline character \"\\n\"\n",
    "        positive_words.append(line)\n",
    "        if line == '':\n",
    "            break\n",
    "    \n",
    "naegative_words = []\n",
    "with  open('./words_negative.txt','r') as f:\n",
    "    while True:\n",
    "        line = f.readline()\n",
    "        line = line.rstrip() # remove the newline character \"\\n\"\n",
    "        naegative_words.append(line)\n",
    "        if line == '':\n",
    "            break\n",
    "\n",
    "tweets = []\n",
    "with  open('./tweets.txt','r') as f:\n",
    "    while True:\n",
    "        line = f.readline()\n",
    "        line = f.readline()\n",
    "        line = line.rstrip() # remove the newline character \"\\n\"\n",
    "        tweets.append(line)\n",
    "        #print(line)\n",
    "        if line == '':\n",
    "            break\n",
    "\n",
    "#-------------------------lists are done\n",
    "\n",
    "\n",
    "#Nested Loop \n",
    "Positive_Count = 0\n",
    "Positive_Rank = []\n",
    "for i in tweets:\n",
    "    for j in positive_words:\n",
    "        if j in i:\n",
    "            Positive_Count+=1\n",
    "    Positive_Rank.append(Positive_Count-1)   \n",
    "    Positive_Count = 0\n",
    "print(\"Positive Words\",Positive_Rank)  \n",
    "\n",
    "\n",
    "negative_Count = 0\n",
    "negative_Rank = []\n",
    "for i in tweets:\n",
    "    for j in naegative_words:\n",
    "        if j in i:\n",
    "            negative_Count+=1\n",
    "    negative_Rank.append(negative_Count-1)   \n",
    "    negative_Count = 0\n",
    "print(\"Negative words\",negative_Rank)  \n",
    "\n",
    "rank_tweets = []\n",
    "for i in range(len(Positive_Rank)):\n",
    "    calc= Positive_Rank[i] - negative_Rank[i]\n",
    "    rank_tweets.append(calc)\n",
    "\n",
    "rank_tweets\n",
    "\n",
    "rank_dect =dict(zip(tweets,rank_tweets))\n",
    "\n",
    "rank_dect\n",
    "\n"
   ]
  }
 ],
 "metadata": {
  "kernelspec": {
   "display_name": "Python 3",
   "language": "python",
   "name": "python3"
  },
  "language_info": {
   "codemirror_mode": {
    "name": "ipython",
    "version": 3
   },
   "file_extension": ".py",
   "mimetype": "text/x-python",
   "name": "python",
   "nbconvert_exporter": "python",
   "pygments_lexer": "ipython3",
   "version": "3.11.8"
  }
 },
 "nbformat": 4,
 "nbformat_minor": 2
}
